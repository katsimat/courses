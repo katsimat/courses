{
 "cells": [
  {
   "cell_type": "markdown",
   "id": "7c6986be",
   "metadata": {},
   "source": [
    "# Решение систем"
   ]
  },
  {
   "cell_type": "code",
   "execution_count": 9,
   "id": "c8114195",
   "metadata": {},
   "outputs": [],
   "source": [
    "from sympy import symbols, solve, Eq, init_printing, latex\n",
    "import re\n",
    "from IPython.display import display, Markdown, Math\n",
    "\n",
    "try:\n",
    "    from IPython.display import display, Markdown, Math\n",
    "    HAS_IPYTHON = True\n",
    "except ImportError:\n",
    "    HAS_IPYTHON = False\n",
    "\n",
    "init_printing()  # Для красивого вывода\n",
    "\n",
    "def solve_system(equations, variables):\n",
    "    \"\"\"\n",
    "    Решает систему уравнений и выводит результат в консоль и Markdown формате\n",
    "    \"\"\"\n",
    "    try:\n",
    "        # Получаем решения\n",
    "        solutions = solve(equations, variables)\n",
    "        \n",
    "        # Генерируем Markdown вывод\n",
    "        md_output = generate_markdown_output(equations, variables, solutions)\n",
    "        display(Markdown(md_output))\n",
    "\n",
    "                \n",
    "    except Exception as e:\n",
    "        print(f\"Ошибка при решении: {e}\")\n",
    "\n",
    "def generate_markdown_output(equations, variables, solutions):\n",
    "    \"\"\"\n",
    "    Генерирует Markdown представление системы уравнений и решений\n",
    "    с фигурной скобкой для системы\n",
    "    \"\"\"\n",
    "    md_lines = []\n",
    "    \n",
    "    # Заголовок\n",
    "    md_lines.append(\"# Решение системы уравнений\\n\")\n",
    "    \n",
    "    # Система уравнений с фигурной скобкой\n",
    "    md_lines.append(\"## Система уравнений:\")\n",
    "    md_lines.append(\"\")\n",
    "    md_lines.append(\"$$\")\n",
    "    md_lines.append(\"\\\\begin{cases}\")\n",
    "    \n",
    "    for i, eq in enumerate(equations):\n",
    "        lhs = latex(eq.lhs)\n",
    "        rhs = latex(eq.rhs)\n",
    "        if i == len(equations) - 1:\n",
    "            md_lines.append(f\"{lhs} = {rhs}\")\n",
    "        else:\n",
    "            md_lines.append(f\"{lhs} = {rhs} \\\\\\\\\")\n",
    "    \n",
    "    md_lines.append(\"\\\\end{cases}\")\n",
    "    md_lines.append(\"$$\")\n",
    "    md_lines.append(\"\")\n",
    "    \n",
    "    # Решения\n",
    "    md_lines.append(\"## Решения:\")\n",
    "    \n",
    "    if not solutions:\n",
    "        md_lines.append(\"Система не имеет решений\")\n",
    "    elif isinstance(solutions, dict):\n",
    "        md_lines.append(\"### Единственное решение:\")\n",
    "        for var, value in solutions.items():\n",
    "            value_str = latex(value)\n",
    "            md_lines.append(f\"${latex(var)} = {value_str}$\")\n",
    "    else:\n",
    "        md_lines.append(f\"### Найдено {len(solutions)} решений:\")\n",
    "        \n",
    "        for i, sol in enumerate(solutions, 1):\n",
    "            md_lines.append(f\"#### Решение {i}:\")\n",
    "            \n",
    "            if isinstance(sol, dict):\n",
    "                # Если решение в виде словаря\n",
    "                for var, value in sol.items():\n",
    "                    value_str = latex(value)\n",
    "                    md_lines.append(f\"\\n${latex(var)} = {value_str}$\")\n",
    "            else:\n",
    "                # Если решение в виде кортежа/списка\n",
    "                for var, value in zip(variables, sol):\n",
    "                    value_str = latex(value)\n",
    "                    md_lines.append(f\"\\n${latex(var)} = {value_str}$\")\n",
    "            \n",
    "            md_lines.append(\"\")\n",
    "    \n",
    "    return \"\\n\".join(md_lines)"
   ]
  },
  {
   "cell_type": "code",
   "execution_count": null,
   "id": "0cb6e91d",
   "metadata": {},
   "outputs": [
    {
     "data": {
      "text/markdown": [
       "# Решение системы уравнений\n",
       "\n",
       "## Система уравнений:\n",
       "\n",
       "$$\n",
       "\\begin{cases}\n",
       "A + B + C = 0 \\\\\n",
       "A \\left(2 - i\\right) + B \\left(i + 2\\right) = 1 \\\\\n",
       "C + 2 i \\left(- A + B\\right) = 0\n",
       "\\end{cases}\n",
       "$$\n",
       "\n",
       "## Решения:\n",
       "### Единственное решение:\n",
       "$A = \\frac{2 i - 1}{10 i}$\n",
       "$B = \\frac{2 i + 1}{10 i}$\n",
       "$C = - \\frac{2}{5}$"
      ],
      "text/plain": [
       "<IPython.core.display.Markdown object>"
      ]
     },
     "metadata": {},
     "output_type": "display_data"
    }
   ],
   "source": [
    "A, B, C, i = symbols('A B C i')\n",
    "equations_quadratic = [\n",
    "    Eq(A+B+C, 0),\n",
    "    Eq((2-i)*A + (2+i)*B, 1),\n",
    "    Eq(2*i*(B - A) + C, 0)\n",
    "]\n",
    "\n",
    "solve_system(equations_quadratic, (A, B, C))"
   ]
  },
  {
   "cell_type": "markdown",
   "id": "18d4191a",
   "metadata": {},
   "source": [
    "# Разложение в ряд Тейлора"
   ]
  },
  {
   "cell_type": "code",
   "execution_count": 40,
   "id": "6f4e86cb",
   "metadata": {},
   "outputs": [],
   "source": [
    "from sympy import symbols, latex, apart, factor, expand\n",
    "from IPython.display import display, Markdown\n",
    "\n",
    "def generate_function_markdown(func, x):\n",
    "    \"\"\"\n",
    "    Генерирует Markdown представление анализа функции\n",
    "    \"\"\"\n",
    "    md_lines = []\n",
    "    \n",
    "    # Заголовок\n",
    "    md_lines.append(\"# Анализ функции\\n\")\n",
    "    \n",
    "    # Исходная функция\n",
    "    md_lines.append(\"## Исходная функция:\")\n",
    "    md_lines.append(f\"$$f(x) = {latex(func)}$$\")\n",
    "    md_lines.append(\"\")\n",
    "    \n",
    "    # Степень числителя и знаменателя\n",
    "    numerator = func.as_numer_denom()[0]\n",
    "    denominator = func.as_numer_denom()[1]\n",
    "    \n",
    "    # Определяем степени\n",
    "    num_degree = degree(numerator, x)\n",
    "    denom_degree = degree(denominator, x)\n",
    "    \n",
    "    md_lines.append(\"## Степени:\")\n",
    "    md_lines.append(f\"- Степень числителя: ${num_degree}$\")\n",
    "    md_lines.append(f\"- Степень знаменателя: ${denom_degree}$\")\n",
    "    \n",
    "    if num_degree >= denom_degree:\n",
    "        md_lines.append(f\"- **Степень числителя ≥ степени знаменателя** (неправильная дробь)\")\n",
    "        # Выделяем целую часть\n",
    "        whole_part = apart(func, x)\n",
    "        md_lines.append(\"\")\n",
    "        md_lines.append(\"## Выделение целой части:\")\n",
    "        md_lines.append(f\"$$f(x) = {latex(whole_part)}$$\")\n",
    "    else:\n",
    "        md_lines.append(f\"- **Степень числителя < степени знаменателя** (правильная дробь)\")\n",
    "    \n",
    "    md_lines.append(\"\")\n",
    "    \n",
    "    # Разложение на простейшие дроби\n",
    "    md_lines.append(\"## Разложение на простейшие дроби:\")\n",
    "    try:\n",
    "        partial_fractions = apart(func, x)\n",
    "        md_lines.append(f\"$$f(x) = {latex(partial_fractions)}$$\")\n",
    "    except:\n",
    "        md_lines.append(\"Не удалось выполнить разложение на простейшие дроби\")\n",
    "    \n",
    "    md_lines.append(\"\")\n",
    "    \n",
    "    # Факторизация знаменателя\n",
    "    md_lines.append(\"## Факторизация знаменателя:\")\n",
    "    try:\n",
    "        factored_denom = factor(denominator)\n",
    "        md_lines.append(f\"$${latex(denominator)} = {latex(factored_denom)}$$\")\n",
    "    except:\n",
    "        md_lines.append(\"Не удалось факторизовать знаменатель\")\n",
    "    \n",
    "    return \"\\n\".join(md_lines)"
   ]
  },
  {
   "cell_type": "code",
   "execution_count": 41,
   "id": "089a02eb",
   "metadata": {},
   "outputs": [
    {
     "name": "stdout",
     "output_type": "stream",
     "text": [
      "Разложения в ряд Тейлора:\n"
     ]
    },
    {
     "data": {
      "text/markdown": [
       "\n",
       "1. $cos(x) = \\cos{\\left(x \\right)}$\n",
       "2. $(-i + u - 3)**(-2) = \\frac{1}{\\left(- i - 3\\right)^{2}} - \\frac{2 u}{\\left(- i - 3\\right)^{3}} + \\frac{3 u^{2}}{\\left(- i - 3\\right)^{4}} - \\frac{4 u^{3}}{\\left(- i - 3\\right)^{5}} + \\frac{5 u^{4}}{\\left(- i - 3\\right)^{6}} - \\frac{6 u^{5}}{\\left(- i - 3\\right)^{7}} + \\frac{7 u^{6}}{\\left(- i - 3\\right)^{8}} - \\frac{8 u^{7}}{\\left(- i - 3\\right)^{9}} + O\\left(u^{8}\\right)$"
      ],
      "text/plain": [
       "<IPython.core.display.Markdown object>"
      ]
     },
     "metadata": {},
     "output_type": "display_data"
    }
   ],
   "source": [
    "from sympy import symbols, series, sin, cos, exp, pi, pprint, latex, sqrt\n",
    "\n",
    "from IPython.display import display, Markdown, Math\n",
    "\n",
    "x, z, u, i = symbols('x z u i')\n",
    "\n",
    "# Разложение нескольких функций\n",
    "functions = [\n",
    "    cos(x), \n",
    "    #exp(x),\n",
    "    #exp(-x**2),\n",
    "    1/ (u - 3 - i)**2\n",
    "]\n",
    "md_content = \"\"\n",
    "print(\"Разложения в ряд Тейлора:\")\n",
    "for i, func in enumerate(functions, 1):\n",
    "    expansion = series(func, u, 0, 8)\n",
    "    # Красивое отображение\n",
    "    md_content += f\"\\n{i}. ${func} = {latex(expansion)}$\"\n",
    "\n",
    "display(Markdown(md_content))"
   ]
  },
  {
   "cell_type": "code",
   "execution_count": 7,
   "id": "03a67c06",
   "metadata": {},
   "outputs": [
    {
     "data": {
      "text/markdown": [
       "\n",
       "## Разложение функций в ряд Тейлора\n",
       "\n",
       "| Функция | Ряд Тейлора |\n",
       "|---------|-------------|\n",
       "| $sin(x)$ | $x - \\frac{x^{3}}{6} + \\frac{x^{5}}{120} + O\\left(x^{6}\\right)$ |\n",
       "| $cos(x)$ | $1 - \\frac{x^{2}}{2} + \\frac{x^{4}}{24} + O\\left(x^{6}\\right)$ |\n",
       "| $e^x$ | $1 + x + \\frac{x^{2}}{2} + \\frac{x^{3}}{6} + \\frac{x^{4}}{24} + \\frac{x^{5}}{120} + O\\left(x^{6}\\right)$ |\n",
       "| $e^{-x^2}$ | $1 - x^{2} + \\frac{x^{4}}{2} + O\\left(x^{6}\\right)$ |\n"
      ],
      "text/plain": [
       "<IPython.core.display.Markdown object>"
      ]
     },
     "metadata": {},
     "output_type": "display_data"
    }
   ],
   "source": [
    "from sympy import symbols, series, sin, cos, exp, latex\n",
    "from IPython.display import display, Math, Markdown\n",
    "\n",
    "x = symbols('x')\n",
    "\n",
    "# Создаем Markdown таблицу с разложениями\n",
    "md_content = \"\"\"\n",
    "## Разложение функций в ряд Тейлора\n",
    "\n",
    "| Функция | Ряд Тейлора |\n",
    "|---------|-------------|\n",
    "\"\"\"\n",
    "\n",
    "functions = [\n",
    "    (\"sin(x)\", sin(x)),\n",
    "    (\"cos(x)\", cos(x)),\n",
    "    (\"e^x\", exp(x)),\n",
    "    (\"e^{-x^2}\", exp(-x**2))\n",
    "]\n",
    "for name, func in functions:\n",
    "    expansion = series(func, x, 0, 6)\n",
    "    md_content += f\"| ${name}$ | ${latex(expansion)}$ |\\n\"\n",
    "\n",
    "display(Markdown(md_content))"
   ]
  },
  {
   "cell_type": "markdown",
   "id": "61f03cba",
   "metadata": {},
   "source": [
    "# Приведение подобных"
   ]
  },
  {
   "cell_type": "code",
   "execution_count": 27,
   "id": "b84f50af",
   "metadata": {},
   "outputs": [
    {
     "name": "stdout",
     "output_type": "stream",
     "text": [
      "Исходное выражение:\n"
     ]
    },
    {
     "data": {
      "text/markdown": [
       "$-1 - 2 x + 2 x y^{2} - \\frac{3 x^{2}}{2} - \\frac{2 x^{3}}{3} - \\frac{37 x^{4}}{24} - \\frac{163 x^{5}}{60} - \\frac{235 x^{6}}{144} - \\frac{17 x^{7}}{126} + O\\left(x^{8}\\right)$"
      ],
      "text/plain": [
       "<IPython.core.display.Markdown object>"
      ]
     },
     "metadata": {},
     "output_type": "display_data"
    },
    {
     "name": "stdout",
     "output_type": "stream",
     "text": [
      "\n",
      "После приведения по [x, y]:\n"
     ]
    },
    {
     "data": {
      "text/markdown": [
       "$-1 + x \\left(2 y^{2} - 2\\right) - \\frac{3 x^{2}}{2} - \\frac{2 x^{3}}{3} - \\frac{37 x^{4}}{24} - \\frac{163 x^{5}}{60} - \\frac{235 x^{6}}{144} - \\frac{17 x^{7}}{126} + O\\left(x^{8}\\right)$"
      ],
      "text/plain": [
       "<IPython.core.display.Markdown object>"
      ]
     },
     "metadata": {},
     "output_type": "display_data"
    }
   ],
   "source": [
    "from sympy import symbols, collect, factor, pprint\n",
    "\n",
    "def simplify_expression(expr, variables=None):\n",
    "    \"\"\"\n",
    "    Умное упрощение выражения с приведением подобных\n",
    "    \"\"\"\n",
    "    print(\"Исходное выражение:\")\n",
    "    display(Markdown(f\"${latex(expr)}$\"))\n",
    "    \n",
    "    # Автоматический выбор метода\n",
    "    if variables:\n",
    "        # Приведение по указанным переменным\n",
    "        result = collect(expr, variables)\n",
    "        print(f\"\\nПосле приведения по {variables}:\")\n",
    "    else:\n",
    "        # Полная факторизация\n",
    "        result = factor(expr)\n",
    "        print(\"\\nПосле полной факторизации:\")\n",
    "    \n",
    "\n",
    "    display(Markdown(f\"${latex(result)}$\"))\n",
    "\n",
    "    return result\n",
    "\n",
    "# Пример использования\n",
    "x, y, z = symbols('x y z')\n",
    "expr = 4*x**2*y + 2*x*y**2 + 6*x**2*z + 3*x*y*z + 8*x*y + 4*x*z\n",
    "expr = expansion + 2*x*y**2\n",
    "# Автоматическое упрощение\n",
    "simplified = simplify_expression(expr, [x, y])\n",
    "\n"
   ]
  },
  {
   "cell_type": "markdown",
   "id": "5e44d083",
   "metadata": {},
   "source": [
    "# Упрощение дробей"
   ]
  },
  {
   "cell_type": "code",
   "execution_count": 37,
   "id": "108dd47b",
   "metadata": {},
   "outputs": [
    {
     "name": "stdout",
     "output_type": "stream",
     "text": [
      "Исходная дробь:\n"
     ]
    },
    {
     "data": {
      "text/markdown": [
       "$\\frac{z}{\\left(z + 2\\right) \\left(z^{2} + 1\\right)}$"
      ],
      "text/plain": [
       "<IPython.core.display.Markdown object>"
      ]
     },
     "metadata": {},
     "output_type": "display_data"
    },
    {
     "name": "stdout",
     "output_type": "stream",
     "text": [
      "\n",
      "Приведение к общему знаменателю:\n"
     ]
    },
    {
     "data": {
      "text/markdown": [
       "$\\frac{z}{\\left(z + 2\\right) \\left(z^{2} + 1\\right)}$"
      ],
      "text/plain": [
       "<IPython.core.display.Markdown object>"
      ]
     },
     "metadata": {},
     "output_type": "display_data"
    },
    {
     "name": "stdout",
     "output_type": "stream",
     "text": [
      "Разложение на простые дроби:\n"
     ]
    },
    {
     "data": {
      "text/markdown": [
       "$\\frac{z}{z^{3} + 2 z^{2} + z + 2}$"
      ],
      "text/plain": [
       "<IPython.core.display.Markdown object>"
      ]
     },
     "metadata": {},
     "output_type": "display_data"
    },
    {
     "name": "stdout",
     "output_type": "stream",
     "text": [
      "Упрощение числителя:\n"
     ]
    },
    {
     "data": {
      "text/markdown": [
       "$\\frac{z}{\\left(z + 2\\right) \\left(z^{2} + 1\\right)}$"
      ],
      "text/plain": [
       "<IPython.core.display.Markdown object>"
      ]
     },
     "metadata": {},
     "output_type": "display_data"
    }
   ],
   "source": [
    "from sympy import symbols, together, apart, collect\n",
    "\n",
    "x, y, z = symbols('x y z')\n",
    "\n",
    "# Дробное выражение\n",
    "expr = z / ((z**2 + 1)*(z + 2))\n",
    "print(\"Исходная дробь:\")\n",
    "display(Markdown(f\"${latex(expr)}$\"))\n",
    "\n",
    "# Приведение к общему знаменателю\n",
    "combined = together(expr)\n",
    "print(f\"\\nПриведение к общему знаменателю:\")\n",
    "display(Markdown(f\"${latex(combined)}$\"))\n",
    "\n",
    "# \n",
    "decomposed = apart(combined, x)\n",
    "print(f\"Разложение на простые дроби:\")\n",
    "display(Markdown(f\"${latex(decomposed)}$\"))\n",
    "\n",
    "# Упрощение числителя\n",
    "simplified = collect(combined, x)\n",
    "print(f\"Упрощение числителя:\")\n",
    "display(Markdown(f\"${latex(simplified)}$\"))"
   ]
  }
 ],
 "metadata": {
  "kernelspec": {
   "display_name": ".venv (3.13.7)",
   "language": "python",
   "name": "python3"
  },
  "language_info": {
   "codemirror_mode": {
    "name": "ipython",
    "version": 3
   },
   "file_extension": ".py",
   "mimetype": "text/x-python",
   "name": "python",
   "nbconvert_exporter": "python",
   "pygments_lexer": "ipython3",
   "version": "3.13.7"
  }
 },
 "nbformat": 4,
 "nbformat_minor": 5
}
