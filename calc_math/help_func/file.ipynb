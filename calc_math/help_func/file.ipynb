{
 "cells": [
  {
   "cell_type": "markdown",
   "id": "7c6986be",
   "metadata": {},
   "source": [
    "# Решение систем"
   ]
  },
  {
   "cell_type": "code",
   "execution_count": 1,
   "id": "c8114195",
   "metadata": {},
   "outputs": [
    {
     "name": "stdout",
     "output_type": "stream",
     "text": [
      "Найдено 3 решений:\n",
      "Решение 1:\n",
      "  x = 5\n",
      "  y = -3\n",
      "  z = 0\n",
      "Решение 2:\n",
      "  x = 5 - sqrt(2)\n",
      "  y = -3 + sqrt(2)\n",
      "  z = sqrt(2)\n",
      "Решение 3:\n",
      "  x = sqrt(2) + 5\n",
      "  y = -3 - sqrt(2)\n",
      "  z = -sqrt(2)\n"
     ]
    }
   ],
   "source": [
    "from sympy import symbols, solve, Eq, init_printing\n",
    "\n",
    "init_printing()  # Для красивого вывода\n",
    "\n",
    "def solve_system(equations, variables):\n",
    "    \"\"\"\n",
    "    Решает систему уравнений и выводит результат\n",
    "    \"\"\"\n",
    "    try:\n",
    "        solutions = solve(equations, variables)\n",
    "        \n",
    "        if not solutions:\n",
    "            print(\"Система не имеет решений\")\n",
    "        elif isinstance(solutions, dict):\n",
    "            print(\"Единственное решение:\")\n",
    "            for var, value in solutions.items():\n",
    "                print(f\"{var} = {value}\")\n",
    "        else:\n",
    "            print(f\"Найдено {len(solutions)} решений:\")\n",
    "            for i, sol in enumerate(solutions, 1):\n",
    "                print(f\"Решение {i}:\")\n",
    "                for var, value in zip(variables, sol):\n",
    "                    print(f\"  {var} = {value}\")\n",
    "                \n",
    "    except Exception as e:\n",
    "        print(f\"Ошибка при решении: {e}\")\n",
    "\n",
    "# Пример использования\n",
    "x, y, z = symbols('x y z')\n",
    "\n",
    "# Система уравнений\n",
    "equations = [\n",
    "    Eq(2*x + 3*y - z, 1),\n",
    "    Eq(x - y + z**3, 8),\n",
    "    Eq(3*x + 2*y + z, 9)\n",
    "]\n",
    "\n",
    "variables = (x, y, z)\n",
    "\n",
    "solve_system(equations, variables)"
   ]
  },
  {
   "cell_type": "markdown",
   "id": "18d4191a",
   "metadata": {},
   "source": [
    "# Разложение в ряд Тейлора"
   ]
  },
  {
   "cell_type": "code",
   "execution_count": null,
   "id": "089a02eb",
   "metadata": {},
   "outputs": [
    {
     "name": "stdout",
     "output_type": "stream",
     "text": [
      "Разложения в ряд Тейлора:\n",
      "\n",
      "1. f(x) = 2*x**2 + sin(x)*cos(x)\n",
      "              3      5      7        \n",
      "       2   2⋅x    2⋅x    4⋅x     ⎛ 8⎞\n",
      "x + 2⋅x  - ──── + ──── - ──── + O⎝x ⎠\n",
      "            3      15    315         \n",
      "LaTeX код:\n",
      "              3      5      7        \n",
      "       2   2⋅x    2⋅x    4⋅x     ⎛ 8⎞\n",
      "x + 2⋅x  - ──── + ──── - ──── + O⎝x ⎠\n",
      "            3      15    315         \n",
      "2*x**2 + sin(x)*cos(x) = \\text{None}\n",
      "\n"
     ]
    }
   ],
   "source": [
    "from sympy import symbols, series, sin, cos, exp, pi, pprint, latex\n",
    "\n",
    "x = symbols('x')\n",
    "\n",
    "# Разложение нескольких функций\n",
    "functions = [\n",
    "    #sin(x),\n",
    "   # cos(x), \n",
    "    #exp(x),\n",
    "    #exp(-x**2),\n",
    "    sin(x)*cos(x) + 2*x**2\n",
    "]\n",
    "\n",
    "print(\"Разложения в ряд Тейлора:\")\n",
    "for i, func in enumerate(functions, 1):\n",
    "    print(f\"\\n{i}. f(x) = {func}\")\n",
    "    expansion = series(func, x, 0, 8)\n",
    "    pprint(expansion)  # Красивое отображение\n",
    "    print(\"LaTeX код:\")\n",
    "    print(f\"{func} = {latex(expansion)}\")\n",
    "    print()"
   ]
  },
  {
   "cell_type": "markdown",
   "id": "fdb3e3b7",
   "metadata": {},
   "source": [
    "## Красивый латех\n",
    "\n",
    "\\begin{equation}\n",
    "2*x**2 + sin(x)*cos(x) = x + 2 x^{2} - \\frac{2 x^{3}}{3} + \\frac{2 x^{5}}{15} - \\frac{4 x^{7}}{315} + O\\left(x^{8}\\right)\n",
    "\n",
    "\\end{equation}"
   ]
  },
  {
   "cell_type": "markdown",
   "id": "61f03cba",
   "metadata": {},
   "source": [
    "# Приведение подобных"
   ]
  },
  {
   "cell_type": "code",
   "execution_count": 14,
   "id": "b84f50af",
   "metadata": {},
   "outputs": [
    {
     "name": "stdout",
     "output_type": "stream",
     "text": [
      "Исходное выражение:\n",
      "   2        2          2                          \n",
      "4⋅x ⋅y + 6⋅x ⋅z + 2⋅x⋅y  + 3⋅x⋅y⋅z + 8⋅x⋅y + 4⋅x⋅z\n",
      "\n",
      "После приведения по [x, y]:\n",
      " 2                 ⎛   2                    ⎞\n",
      "x ⋅(4⋅y + 6⋅z) + x⋅⎝2⋅y  + 3⋅y⋅z + 8⋅y + 4⋅z⎠\n"
     ]
    }
   ],
   "source": [
    "from sympy import symbols, collect, factor, pprint\n",
    "\n",
    "def simplify_expression(expr, variables=None):\n",
    "    \"\"\"\n",
    "    Умное упрощение выражения с приведением подобных\n",
    "    \"\"\"\n",
    "    print(\"Исходное выражение:\")\n",
    "    pprint(expr)\n",
    "    \n",
    "    # Автоматический выбор метода\n",
    "    if variables:\n",
    "        # Приведение по указанным переменным\n",
    "        result = collect(expr, variables)\n",
    "        print(f\"\\nПосле приведения по {variables}:\")\n",
    "    else:\n",
    "        # Полная факторизация\n",
    "        result = factor(expr)\n",
    "        print(\"\\nПосле полной факторизации:\")\n",
    "    \n",
    "    pprint(result)\n",
    "    return result\n",
    "\n",
    "# Пример использования\n",
    "x, y, z = symbols('x y z')\n",
    "expr = 4*x**2*y + 2*x*y**2 + 6*x**2*z + 3*x*y*z + 8*x*y + 4*x*z\n",
    "\n",
    "# Автоматическое упрощение\n",
    "simplified = simplify_expression(expr, [x, y])"
   ]
  },
  {
   "cell_type": "code",
   "execution_count": 15,
   "id": "108dd47b",
   "metadata": {},
   "outputs": [
    {
     "name": "stdout",
     "output_type": "stream",
     "text": [
      "Исходная дробь:\n",
      "-(2*x + 1)/(x + 1) + (3*x + 2)/(x + 1) + (5*x - 3)/(x + 1)\n",
      "\n",
      "После приведения: 2*(3*x - 1)/(x + 1)\n",
      "Разложение: 6 - 8/(x + 1)\n",
      "Упрощенное: 2*(3*x - 1)/(x + 1)\n"
     ]
    }
   ],
   "source": [
    "from sympy import symbols, together, apart, collect\n",
    "\n",
    "x = symbols('x')\n",
    "\n",
    "# Дробное выражение\n",
    "expr = (3*x + 2)/(x + 1) + (5*x - 3)/(x + 1) - (2*x + 1)/(x + 1)\n",
    "print(\"Исходная дробь:\")\n",
    "print(expr)\n",
    "\n",
    "# Приведение к общему знаменателю\n",
    "combined = together(expr)\n",
    "print(f\"\\nПосле приведения: {combined}\")\n",
    "\n",
    "# Разложение на простые дроби\n",
    "decomposed = apart(combined)\n",
    "print(f\"Разложение: {decomposed}\")\n",
    "\n",
    "# Упрощение числителя\n",
    "simplified = collect(combined, x)\n",
    "print(f\"Упрощенное: {simplified}\")"
   ]
  },
  {
   "cell_type": "code",
   "execution_count": 16,
   "id": "7a218018",
   "metadata": {},
   "outputs": [
    {
     "name": "stdout",
     "output_type": "stream",
     "text": [
      "Исходная система:\n",
      "-2⋅x + 9⋅y = 15\n",
      "6⋅x - 2⋅y = 10\n",
      "\n",
      "После приведения подобных:\n",
      "-2⋅x + 9⋅y = 15\n",
      "6⋅x - 2⋅y = 10\n",
      "\n",
      "Решение: {x: 12/5, y: 11/5}\n"
     ]
    }
   ],
   "source": [
    "from sympy import symbols, Eq, collect, solve, pprint\n",
    "\n",
    "x, y = symbols('x y')\n",
    "\n",
    "# Система уравнений с подобными слагаемыми\n",
    "eq1 = Eq(3*x + 2*y - 5*x + 7*y, 15)\n",
    "eq2 = Eq(2*x - 3*y + 4*x + y, 10)\n",
    "\n",
    "print(\"Исходная система:\")\n",
    "pprint(eq1)\n",
    "pprint(eq2)\n",
    "\n",
    "# Приведение подобных в каждом уравнении\n",
    "eq1_simple = Eq(collect(eq1.lhs, [x, y]), eq1.rhs)\n",
    "eq2_simple = Eq(collect(eq2.lhs, [x, y]), eq2.rhs)\n",
    "\n",
    "print(\"\\nПосле приведения подобных:\")\n",
    "pprint(eq1_simple)\n",
    "pprint(eq2_simple)\n",
    "\n",
    "# Решение упрощенной системы\n",
    "solution = solve((eq1_simple, eq2_simple), (x, y))\n",
    "print(f\"\\nРешение: {solution}\")"
   ]
  }
 ],
 "metadata": {
  "kernelspec": {
   "display_name": ".venv (3.13.7)",
   "language": "python",
   "name": "python3"
  },
  "language_info": {
   "codemirror_mode": {
    "name": "ipython",
    "version": 3
   },
   "file_extension": ".py",
   "mimetype": "text/x-python",
   "name": "python",
   "nbconvert_exporter": "python",
   "pygments_lexer": "ipython3",
   "version": "3.13.7"
  }
 },
 "nbformat": 4,
 "nbformat_minor": 5
}
