{
 "cells": [
  {
   "cell_type": "code",
   "execution_count": 1,
   "id": "4b4f02eb",
   "metadata": {},
   "outputs": [],
   "source": [
    "import numpy as np\n",
    "import matplotlib.pyplot as plt\n",
    "from sympy import symbols, latex, sin, pi\n",
    "from IPython.display import display, Markdown, Math\n",
    "import itertools\n",
    "\n",
    "# Настройка для красивого отображения\n",
    "plt.rcParams['figure.figsize'] = (12, 8)\n",
    "plt.rcParams['font.size'] = 12"
   ]
  },
  {
   "cell_type": "markdown",
   "id": "79ba71bb",
   "metadata": {},
   "source": [
    "# Домашнее задание 1\n",
    "**Вариант 14**\n",
    "\n",
    "Задачи \n",
    "\n",
    "|I.8.18*| 1*.6| 3*|\n",
    "|---|---|---|\n",
    "||||"
   ]
  },
  {
   "cell_type": "markdown",
   "id": "375dff8f",
   "metadata": {},
   "source": [
    "## I.8.18\n",
    "Рассмотрим модель представления чисел в IEEE-арифметике следующего вида\n",
    "\n",
    "$S = \\{\\pm b_0, b_1b_2b_3 \\cdot 2^{\\pm a}\\}$, где числа $a, b_1, b_2, b_3 \\in \\{0, 1\\}$, а число $b_0 = 1$ всегда, кроме того случая, когда $a=b_1=b_2=b_3=0$, в этом случае $b_0 \\in\\{0, 1\\}$\n",
    "\n",
    "\n",
    "a) Построить множество $S$ на действительной оси. Сколько чисел в данной модели арифметики у Вас получилось?\n",
    "\n",
    "б) Чему равны машинные константы $\\varepsilon_{маш}, UFL, OFL$ в этой модели?\n",
    "\n",
    "в) Постройте график функции sin(𝑥) в заданной арифметике с плавающей запятой."
   ]
  },
  {
   "cell_type": "markdown",
   "id": "6c9cea79",
   "metadata": {},
   "source": [
    "## Решение\n"
   ]
  },
  {
   "cell_type": "markdown",
   "id": "11c91fa7",
   "metadata": {},
   "source": [
    "### Пункт a\n",
    "Пусть n - число принадлежащее S\n",
    "1) $a=b_1=b_2=b_3=0$\n",
    "    1) $n = 0.000$\n",
    "    2) $n = \\pm 1.000$\n",
    "\n",
    "    Итого 3 числа\n",
    "1) Иначе\n",
    "    * Тогда $n$ представим в виде $n = \\pm 1,b_1b_2b_3\\cdot 2^{\\pm a}$\n",
    "    * $b_1, b_2, b_3 \\in \\{0, 1\\} => $ всего вариантов $2^3 = 8$\n",
    "    * $a \\in \\{-1, 0, 1\\} =>$ всего вариантов 3\n",
    "        \n",
    "        $2 \\cdot 3 \\cdot 8 = 48$\n",
    "    * но случаи $\\pm 1.000$ уже были учтены $=> 48 - 2 = 46$\n",
    "    \n",
    "    Итого 46 чисел\n",
    "    \n",
    "Всего чисел в данной модели арифметики $46 + 3 = 49$"
   ]
  },
  {
   "cell_type": "markdown",
   "id": "52296ce2",
   "metadata": {},
   "source": [
    "#### Построим множество S на действительной оси"
   ]
  },
  {
   "cell_type": "code",
   "execution_count": null,
   "id": "b9fd90ba",
   "metadata": {},
   "outputs": [],
   "source": [
    "def generate_numbers():\n",
    "    numbers = []\n",
    "    \n",
    "    # a = b_1 = b_2 = b_3 = 0\n",
    "    for b0 in [0, 1]:\n",
    "        if b0 == 0:\n",
    "            numbers.append(0.0)\n",
    "        else:\n",
    "            numbers.append(1.0)\n",
    "            numbers.append(-1.0)\n",
    "\n",
    "    b0 = 1\n",
    "    for a in [0, 1]:\n",
    "        for b1 in [0, 1]:\n",
    "            for b2 in [0, 1]:\n",
    "                for b3 in [0, 1]:\n",
    "                    if a == b1 and a == b2 and a == b3:\n",
    "                        continue\n",
    "\n",
    "                    num\n",
    "                    numbers.append(num)\n"
   ]
  }
 ],
 "metadata": {
  "kernelspec": {
   "display_name": ".venv (3.13.7)",
   "language": "python",
   "name": "python3"
  },
  "language_info": {
   "codemirror_mode": {
    "name": "ipython",
    "version": 3
   },
   "file_extension": ".py",
   "mimetype": "text/x-python",
   "name": "python",
   "nbconvert_exporter": "python",
   "pygments_lexer": "ipython3",
   "version": "3.13.7"
  }
 },
 "nbformat": 4,
 "nbformat_minor": 5
}
