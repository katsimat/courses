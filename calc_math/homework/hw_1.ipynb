{
 "cells": [
  {
   "cell_type": "code",
   "execution_count": null,
   "id": "4b4f02eb",
   "metadata": {},
   "outputs": [],
   "source": [
    "import numpy as np\n",
    "import matplotlib.pyplot as plt\n",
    "from sympy import sin, pi\n",
    "\n"
   ]
  },
  {
   "cell_type": "markdown",
   "id": "79ba71bb",
   "metadata": {},
   "source": [
    "# Домашнее задание 1\n",
    "**Вариант 14**\n",
    "\n",
    "Задачи \n",
    "\n",
    "|I.8.18*| 1*.6| 3*|\n",
    "|---|---|---|\n",
    "||||"
   ]
  },
  {
   "cell_type": "markdown",
   "id": "375dff8f",
   "metadata": {},
   "source": [
    "## I.8.18\n",
    "Рассмотрим модель представления чисел в IEEE-арифметике следующего вида\n",
    "\n",
    "$S = \\{\\pm b_0, b_1b_2b_3 \\cdot 2^{\\pm a}\\}$, где числа $a, b_1, b_2, b_3 \\in \\{0, 1\\}$, а число $b_0 = 1$ всегда, кроме того случая, когда $a=b_1=b_2=b_3=0$, в этом случае $b_0 \\in\\{0, 1\\}$\n",
    "\n",
    "\n",
    "a) Построить множество $S$ на действительной оси. Сколько чисел в данной модели арифметики у Вас получилось?\n",
    "\n",
    "б) Чему равны машинные константы $\\varepsilon_{маш}, UFL, OFL$ в этой модели?\n",
    "\n",
    "в) Постройте график функции sin(𝑥) в заданной арифметике с плавающей запятой."
   ]
  },
  {
   "cell_type": "markdown",
   "id": "6c9cea79",
   "metadata": {},
   "source": [
    "## Решение\n"
   ]
  },
  {
   "cell_type": "markdown",
   "id": "11c91fa7",
   "metadata": {},
   "source": [
    "### Пункт a\n"
   ]
  },
  {
   "cell_type": "markdown",
   "id": "03ba912c",
   "metadata": {},
   "source": [
    "Пусть n - число принадлежащее S\n",
    "1) $a=b_1=b_2=b_3=0$\n",
    "    1) $n = 0.000$\n",
    "    2) $n = \\pm 1.000$\n",
    "\n",
    "    Итого 3 числа\n",
    "1) Иначе\n",
    "    * Тогда $n$ представим в виде $n = \\pm 1,b_1b_2b_3\\cdot 2^{\\pm a}$\n",
    "    * $b_1, b_2, b_3 \\in \\{0, 1\\} => $ всего вариантов $2^3 = 8$\n",
    "    * $a \\in \\{-1, 0, 1\\} =>$ всего вариантов 3\n",
    "        \n",
    "        $2 \\cdot 3 \\cdot 8 = 48$\n",
    "    * но случаи $\\pm 1.000$ уже были учтены $=> 48 - 2 = 46$\n",
    "    \n",
    "    Итого 46 чисел\n",
    "    \n",
    "Всего чисел в данной модели арифметики $46 + 3 = 49$"
   ]
  },
  {
   "cell_type": "markdown",
   "id": "52296ce2",
   "metadata": {},
   "source": [
    "#### Построим множество S на действительной оси"
   ]
  },
  {
   "cell_type": "code",
   "execution_count": 44,
   "id": "b9fd90ba",
   "metadata": {},
   "outputs": [
    {
     "name": "stdout",
     "output_type": "stream",
     "text": [
      "Всего чисел в модели: 49\n"
     ]
    },
    {
     "data": {
      "image/png": "[encoded data removed]",
      "text/plain": [
       "<Figure size 1000x200 with 1 Axes>"
      ]
     },
     "metadata": {},
     "output_type": "display_data"
    }
   ],
   "source": [
    "def generate_numbers():\n",
    "    numbers = []\n",
    "    \n",
    "    # a = b_1 = b_2 = b_3 = 0\n",
    "    numbers.append(0.0)\n",
    "    numbers.append(1.0)\n",
    "    numbers.append(-1.0)\n",
    "\n",
    "\n",
    "    b0 = 1\n",
    "    for a in [0, 1]:\n",
    "        for b1 in [0, 1]:\n",
    "            for b2 in [0, 1]:\n",
    "                for b3 in [0, 1]:\n",
    "                    if a == b1 and a == b2 and a == b3 and a == 0:\n",
    "                        continue\n",
    "\n",
    "                    # mantisa = b0 + b1 * 2^-1 + b2 * 2^-2 + b3 * 2^-3\n",
    "                    mantissa = b0 + b1 * 0.5 + b2 * 0.25 + b3 * 0.125\n",
    "                    \n",
    "                    for sign in [1, -1]:\n",
    "                        a_sign = a * sign\n",
    "                        num = mantissa * (2 ** a_sign)\n",
    "                        numbers.extend([num, -num])\n",
    "    \n",
    "    numbers = sorted(list(set(numbers)))\n",
    "    return numbers\n",
    "\n",
    "number = generate_numbers()\n",
    "print(f\"Всего чисел в модели: {len(number)}\")\n",
    "\n",
    "\n",
    "# нарисуем\n",
    "plt.figure(figsize=(10, 2))\n",
    "plt.scatter(number, [0]*len(number), s=10, c='red')\n",
    "plt.axhline(y=0, color='black', linewidth=0.5)\n",
    "plt.grid(True, alpha=0.3)\n",
    "plt.ylim(-0.1, 0.1)\n",
    "plt.tight_layout()\n",
    "\n",
    "plt.show()\n"
   ]
  },
  {
   "cell_type": "markdown",
   "id": "f163e1b1",
   "metadata": {},
   "source": [
    "### Пункт б\n"
   ]
  },
  {
   "cell_type": "markdown",
   "id": "ce579a09",
   "metadata": {},
   "source": [
    "#### OFL\n",
    "_**Def.** Порог переполнения, который есть максимальное представимое число, так что любое большее число полагается равным бесконечности._"
   ]
  },
  {
   "cell_type": "code",
   "execution_count": 47,
   "id": "b1a60ad2",
   "metadata": {},
   "outputs": [
    {
     "name": "stdout",
     "output_type": "stream",
     "text": [
      "3.75\n"
     ]
    }
   ],
   "source": [
    "# выведем максимальное число из посчитанных в пункте a\n",
    "print(max(number))\n"
   ]
  },
  {
   "cell_type": "markdown",
   "id": "6116451e",
   "metadata": {},
   "source": [
    "OFL соответсвует числу, полученному с помощью максимальных\n",
    "$b_0,b_1,b_2, b_3, a$, т.е.\n",
    "\n",
    "$OFL = (1 + 0,5 + 0,25 + 0,125) \\cdot 2^1 = 3,75$"
   ]
  },
  {
   "cell_type": "markdown",
   "id": "75d914fd",
   "metadata": {},
   "source": [
    "#### UFL\n",
    "_**Def.** порог машинного нуля, - нормализованное число, что любое число полагается равным нулю (положительное)_"
   ]
  },
  {
   "cell_type": "code",
   "execution_count": 53,
   "id": "1744daab",
   "metadata": {},
   "outputs": [
    {
     "name": "stdout",
     "output_type": "stream",
     "text": [
      "0.5\n"
     ]
    }
   ],
   "source": [
    "min = 100\n",
    "for num in number:\n",
    "    if num <= 0:\n",
    "        continue\n",
    "    if num < min:\n",
    "        min = num\n",
    "print(min)"
   ]
  },
  {
   "cell_type": "markdown",
   "id": "0f202935",
   "metadata": {},
   "source": [
    "$UFL = 1.000_2 \\cdot 2^{-1}$, т.е.\n",
    "\n",
    "$UFL = (1 + 0\\cdot 0.5 + 0\\cdot 0.25 + 0\\cdot 0.125)\\cdot 2^{-1} = 0.5$"
   ]
  },
  {
   "cell_type": "markdown",
   "id": "299bd903",
   "metadata": {},
   "source": [
    "#### $\\varepsilon_{маш}$\n",
    "_**Def.** максимальное число, которое в машинной арифметиге обеспечивает справедливость равентства_ $1+ \\varepsilon_{маш} = 1$"
   ]
  },
  {
   "cell_type": "markdown",
   "id": "f95b36d0",
   "metadata": {},
   "source": [
    "В нашем случае основание $ n = (-1)^s (1 + f \\cdot 2^{-3}) e^{\\pm 1}$, тогда\n",
    "\n",
    "$\\varepsilon_{маш} := \\frac{1}{2}\\cdot 2^{-3} = 0.5 \\cdot 0,125 = 0,0625$"
   ]
  },
  {
   "cell_type": "markdown",
   "id": "b574b6f5",
   "metadata": {},
   "source": []
  }
 ],
 "metadata": {
  "kernelspec": {
   "display_name": ".venv (3.13.7)",
   "language": "python",
   "name": "python3"
  },
  "language_info": {
   "codemirror_mode": {
    "name": "ipython",
    "version": 3
   },
   "file_extension": ".py",
   "mimetype": "text/x-python",
   "name": "python",
   "nbconvert_exporter": "python",
   "pygments_lexer": "ipython3",
   "version": "3.13.7"
  }
 },
 "nbformat": 4,
 "nbformat_minor": 5
}
